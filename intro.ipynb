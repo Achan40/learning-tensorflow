{
 "cells": [
  {
   "cell_type": "markdown",
   "metadata": {},
   "source": [
    "### Installing Tensorflow on Device\n",
    "Assuming hardware is compatible:\n",
    "1. Install latest NVIDIA drivers\n",
    "2. Install CUDA Toolkit\n",
    "3. Install cuDNN SDK and copy files to CUDA directories <br>\n",
    "{unzipped dir}/bin/ --> C:\\Program Files\\NVIDIA GPU Computing Toolkit\\CUDA\\v9.0\\bin <br>\n",
    "{unzipped dir}/include/ --> C:\\Program Files\\NVIDIA GPU Computing Toolkit\\CUDA\\v9.0\\include <br>\n",
    "{unzipped dir}/lib/ --> C:\\Program Files\\NVIDIA GPU Computing Toolkit\\CUDA\\v9.0\\lib "
   ]
  },
  {
   "cell_type": "code",
   "execution_count": 6,
   "metadata": {},
   "outputs": [
    {
     "name": "stdout",
     "output_type": "stream",
     "text": [
      "Device mapping:\n",
      "/job:localhost/replica:0/task:0/device:GPU:0 -> device: 0, name: NVIDIA GeForce GTX 1080, pci bus id: 0000:09:00.0, compute capability: 6.1\n",
      "\n"
     ]
    }
   ],
   "source": [
    "# import module, check if it gpu is linked\n",
    "import tensorflow as tf\n",
    "sess = tf.compat.v1.Session(config=tf.compat.v1.ConfigProto(log_device_placement=True))"
   ]
  }
 ],
 "metadata": {
  "interpreter": {
   "hash": "27dbf42753113e11682fcc5c3e03739fe099a36ec37fd1a95add47902f2adca1"
  },
  "kernelspec": {
   "display_name": "Python 3.9.5 64-bit ('dataScienceEnv': conda)",
   "name": "python3"
  },
  "language_info": {
   "codemirror_mode": {
    "name": "ipython",
    "version": 3
   },
   "file_extension": ".py",
   "mimetype": "text/x-python",
   "name": "python",
   "nbconvert_exporter": "python",
   "pygments_lexer": "ipython3",
   "version": "3.9.5"
  },
  "orig_nbformat": 4
 },
 "nbformat": 4,
 "nbformat_minor": 2
}
